{
 "cells": [
  {
   "cell_type": "code",
   "execution_count": 1,
   "id": "07a5f6c8",
   "metadata": {},
   "outputs": [
    {
     "name": "stderr",
     "output_type": "stream",
     "text": [
      "Loading required package: ggplot2\n",
      "\n",
      "Loading required package: lattice\n",
      "\n",
      "Loading required package: Matrix\n",
      "\n",
      "Loaded glmnet 4.1-4\n",
      "\n",
      "\n",
      "Attaching package: ‘boot’\n",
      "\n",
      "\n",
      "The following object is masked from ‘package:lattice’:\n",
      "\n",
      "    melanoma\n",
      "\n",
      "\n"
     ]
    }
   ],
   "source": [
    "library(caret)\n",
    "library(MASS)\n",
    "library(caTools)\n",
    "library(ggplot2)\n",
    "library(glmnet)\n",
    "library(boot)"
   ]
  },
  {
   "cell_type": "code",
   "execution_count": 2,
   "id": "52e4bdb9",
   "metadata": {},
   "outputs": [],
   "source": [
    "xtrain<-read.csv(\"X_train.csv\")\n",
    "ytrain<-read.csv(\"y_train.csv\")"
   ]
  },
  {
   "cell_type": "code",
   "execution_count": 3,
   "id": "63680689",
   "metadata": {},
   "outputs": [
    {
     "data": {
      "text/html": [
       "9000"
      ],
      "text/latex": [
       "9000"
      ],
      "text/markdown": [
       "9000"
      ],
      "text/plain": [
       "[1] 9000"
      ]
     },
     "metadata": {},
     "output_type": "display_data"
    }
   ],
   "source": [
    "length(colnames(xtrain))"
   ]
  },
  {
   "cell_type": "code",
   "execution_count": 4,
   "id": "822703d6",
   "metadata": {},
   "outputs": [
    {
     "data": {
      "text/html": [
       "3794"
      ],
      "text/latex": [
       "3794"
      ],
      "text/markdown": [
       "3794"
      ],
      "text/plain": [
       "[1] 3794"
      ]
     },
     "metadata": {},
     "output_type": "display_data"
    }
   ],
   "source": [
    "nrow(xtrain)"
   ]
  },
  {
   "cell_type": "code",
   "execution_count": 5,
   "id": "a15dadc8",
   "metadata": {},
   "outputs": [],
   "source": [
    "x<-as.matrix(xtrain)\n",
    "y<-as.matrix(ytrain)"
   ]
  },
  {
   "cell_type": "code",
   "execution_count": 31,
   "id": "b544fae2",
   "metadata": {},
   "outputs": [],
   "source": [
    "n<-100"
   ]
  },
  {
   "cell_type": "code",
   "execution_count": 32,
   "id": "8b8f0bf6",
   "metadata": {},
   "outputs": [],
   "source": [
    "vala<-sapply(1:n,\\(x) x/n)"
   ]
  },
  {
   "cell_type": "code",
   "execution_count": null,
   "id": "a2e6465b",
   "metadata": {},
   "outputs": [],
   "source": [
    "msqe<-numeric(n)\n",
    "for (i in 1:n)\n",
    "{\n",
    "    model<-cv.glmnet(x,y,alpha=vala[i])\n",
    "    msqep[i]<-min(model$cvm)\n",
    "}"
   ]
  },
  {
   "cell_type": "code",
   "execution_count": null,
   "id": "6ccfbf45",
   "metadata": {},
   "outputs": [],
   "source": []
  }
 ],
 "metadata": {
  "kernelspec": {
   "display_name": "R",
   "language": "R",
   "name": "ir"
  },
  "language_info": {
   "codemirror_mode": "r",
   "file_extension": ".r",
   "mimetype": "text/x-r-source",
   "name": "R",
   "pygments_lexer": "r",
   "version": "4.1.3"
  }
 },
 "nbformat": 4,
 "nbformat_minor": 5
}
